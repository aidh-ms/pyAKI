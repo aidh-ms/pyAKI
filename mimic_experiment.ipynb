{
 "cells": [
  {
   "cell_type": "markdown",
   "metadata": {},
   "source": [
    "# Setup"
   ]
  },
  {
   "cell_type": "code",
   "execution_count": 3,
   "metadata": {},
   "outputs": [],
   "source": [
    "import pandas as pd"
   ]
  },
  {
   "cell_type": "markdown",
   "metadata": {},
   "source": [
    "# Data Import"
   ]
  },
  {
   "cell_type": "code",
   "execution_count": 4,
   "metadata": {},
   "outputs": [],
   "source": [
    "mimic_urineoutput = pd.read_csv('tests/experiment/data/mimic_urineoutput.csv')\n",
    "mimic_creatinine = pd.read_csv('tests/experiment/data/mimic_creatinine.csv')\n",
    "mimic_rrt = pd.read_csv('tests/experiment/data/mimic_rrt.csv')\n",
    "mimic_kdigo = pd.read_csv('tests/experiment/data/mimic_kdigo.csv')"
   ]
  },
  {
   "cell_type": "code",
   "execution_count": 5,
   "metadata": {},
   "outputs": [],
   "source": [
    "# coerce charttime to datetime\n",
    "mimic_urineoutput['charttime'] = pd.to_datetime(mimic_urineoutput['charttime'])\n",
    "mimic_creatinine['charttime'] = pd.to_datetime(mimic_creatinine['charttime'])\n",
    "mimic_rrt['charttime'] = pd.to_datetime(mimic_rrt['charttime'])\n",
    "mimic_kdigo['charttime'] = pd.to_datetime(mimic_kdigo['charttime'])\n"
   ]
  },
  {
   "cell_type": "code",
   "execution_count": 6,
   "metadata": {},
   "outputs": [],
   "source": [
    "# sort values by stay_id and then by charttime\n",
    "mimic_urineoutput = mimic_urineoutput.sort_values(['stay_id', 'charttime'])\n",
    "mimic_creatinine = mimic_creatinine.sort_values(['stay_id', 'charttime'])\n",
    "mimic_rrt = mimic_rrt.sort_values(['stay_id', 'charttime'])\n",
    "mimic_kdigo = mimic_kdigo.sort_values(['stay_id', 'charttime'])"
   ]
  },
  {
   "cell_type": "markdown",
   "metadata": {},
   "source": [
    "# pyAKI"
   ]
  },
  {
   "cell_type": "code",
   "execution_count": 7,
   "metadata": {},
   "outputs": [],
   "source": [
    "import pyAKI.kdigo as kdigo"
   ]
  },
  {
   "cell_type": "code",
   "execution_count": null,
   "metadata": {},
   "outputs": [],
   "source": [
    "ana = kdigo.Analyser([\n",
    "            pyAKI.utils.Dataset(pyAKI.utils.DatasetType.URINEOUTPUT, mimic_urineoutput),\n",
    "            pyAKI.utils.Dataset(pyAKI.utils.DatasetType.CREATININE, mimic_creatinine),\n",
    "            pyAKI.utils.Dataset(pyAKI.utils.DatasetType.DEMOGRAPHICS, mimic_patient_data),\n",
    "            pyAKI.utils.Dataset(pyAKI.utils.DatasetType.CRRT, mimic_rrt),\n",
    "        ])\n",
    "\n",
    "ana.process_stays()"
   ]
  }
 ],
 "metadata": {
  "kernelspec": {
   "display_name": "pyakienv",
   "language": "python",
   "name": "python3"
  },
  "language_info": {
   "codemirror_mode": {
    "name": "ipython",
    "version": 3
   },
   "file_extension": ".py",
   "mimetype": "text/x-python",
   "name": "python",
   "nbconvert_exporter": "python",
   "pygments_lexer": "ipython3",
   "version": "3.11.4"
  },
  "orig_nbformat": 4
 },
 "nbformat": 4,
 "nbformat_minor": 2
}
